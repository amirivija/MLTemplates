{
 "cells": [
  {
   "cell_type": "markdown",
   "metadata": {},
   "source": [
    "## Problem Statement\n",
    "## Table of Contents:\n",
    "* [Section 1: User Defined Functions](#udf)\n",
    "* [Section 2: Exploratory Data Analysis](#eda)\n",
    "* [Section 3: Derived Variables](#derived-variables)\n",
    "* [Section 4: Data Normalization](#data-normalization)\n",
    "* [Section 5: Building the model](#model-building)\n",
    "* [Model Version 1](#model-v1)\n",
    "* [Model Version 1: Summary](#model-v1-summary)\n",
    "* [Model Version 2](#model-v2)\n",
    "* [Model Version 2: Summary](#model-v2-summary)\n",
    "* [Model Version 3](#model-v3)\n",
    "* [Model Version 3: Summary](#model-v3-summary)\n",
    "* [Model Version 4](#model-v4)\n",
    "* [Model Version 4: Summary](#model-v4-summary)\n",
    "* [Model Version 5](#model-v5)\n",
    "* [Model Version 5: Summary](#model-v5-summary)\n",
    "* [Model Version 6](#model-v6)\n",
    "* [Model Version 6: Summary](#model-v6-summary)\n",
    "* [Linear Regression using SkLearn](#lr)\n",
    "* [Using SkLearn RFE to compute model and compare](#rfe)\n",
    "* [Final Summary and Recommendations](#summary)"
   ]
  },
  {
   "cell_type": "code",
   "execution_count": 595,
   "metadata": {},
   "outputs": [],
   "source": [
    "import pandas as pd\n",
    "import statsmodels.api as sm\n",
    "from statsmodels.stats.outliers_influence import variance_inflation_factor\n",
    "\n",
    "from sklearn.metrics import mean_squared_error, r2_score\n",
    "from sklearn.preprocessing import MinMaxScaler\n",
    "from sklearn.linear_model import LinearRegression\n",
    "from sklearn.feature_selection import RFE\n",
    "\n",
    "import matplotlib.pyplot as plt\n",
    "from numpy.polynomial.polynomial import polyfit\n"
   ]
  },
  {
   "cell_type": "code",
   "execution_count": 479,
   "metadata": {},
   "outputs": [],
   "source": [
    "df = pd.read_csv('CarPrice_Assignment.csv')"
   ]
  },
  {
   "cell_type": "markdown",
   "metadata": {},
   "source": [
    "## Section 1: User Defined Functions <a class=\"anchor\" id=\"udf\"></a>\n"
   ]
  },
  {
   "cell_type": "code",
   "execution_count": 1,
   "metadata": {},
   "outputs": [],
   "source": [
    "# User defined functions\n",
    "\n",
    "def do_analysis_numeric(df, column_name):\n",
    "\n",
    "    df[[column_name]].plot(kind='box')\n",
    "    df[[column_name, 'price']].plot(kind='scatter', x=column_name, y='price', legend=True)\n",
    "        \n",
    "    print(df[[column_name, 'price']].corr())\n",
    "\n",
    "        \n",
    "def do_analysis_categorical(df, column_name):\n",
    "    print(df[column_name].value_counts())\n",
    "    df[['price', column_name]].groupby(column_name).mean().plot(kind='bar')\n",
    "    \n",
    "#Print the model summary with is basically the Ordinary Least Squares model summary\n",
    "# Prints the Rsquared, Adjusted RSquared, p value and the variable coefficients.\n",
    "def get_model_summary(X, y):\n",
    "    model = sm.OLS(y.values, X.values)\n",
    "    res = model.fit()\n",
    "    print(res.summary())\n",
    "    return res\n",
    "\n",
    "# Get the Variance Influence Factor for the given training data\n",
    "def get_VIF(X):\n",
    "    vif = pd.DataFrame()\n",
    "    vif[\"feature name\"] = X.columns\n",
    "    vif[\"Variance Influence Factor (VIF)\"] = [variance_inflation_factor(X.values, i) for i in range(X.shape[1])]\n",
    "    print(vif)\n",
    "    \n",
    "def print_error_terms(y, ypred, number_of_variables):\n",
    "    mse = mean_squared_error(y, ypred)\n",
    "    r_squared = r2_score(y, ypred)\n",
    "    \n",
    "    # Compute the adjusted rsquared\n",
    "    n = y.shape[0]\n",
    "    adjusted_r_squared = 1-(1-r_squared)*(n-1)/(n-number_of_variables-1)\n",
    "    print(\"Mean Squared Error: \", mse)\n",
    "    print(\"R Squared: \", r_squared)\n",
    "    print(\"Adjusted R Squared: \", adjusted_r_squared)\n",
    "    \n",
    "    \n",
    "def plot_actual_vs_predicted(y, ypred):\n",
    "    c = [i for i in range(0,y.shape[0],1)]\n",
    "    fig = plt.figure()\n",
    "    plt.plot(c, y, color=\"blue\", linewidth=2.5, linestyle=\"-\")\n",
    "    plt.plot(c, ypred, color=\"red\",  linewidth=2.5, linestyle=\"-\")\n",
    "    fig.suptitle('Actual and Predicted Car Price', fontsize=20)\n",
    "    plt.xlabel('Index', fontsize=18)\n",
    "    plt.ylabel('Car Price', fontsize=16) \n",
    "    \n",
    "# plot the error terms and the error histogram\n",
    "def plot_error(y, ypred):\n",
    "    (y - ypred).plot(kind='hist')"
   ]
  },
  {
   "cell_type": "code",
   "execution_count": 481,
   "metadata": {},
   "outputs": [
    {
     "data": {
      "text/html": [
       "<div>\n",
       "<style scoped>\n",
       "    .dataframe tbody tr th:only-of-type {\n",
       "        vertical-align: middle;\n",
       "    }\n",
       "\n",
       "    .dataframe tbody tr th {\n",
       "        vertical-align: top;\n",
       "    }\n",
       "\n",
       "    .dataframe thead th {\n",
       "        text-align: right;\n",
       "    }\n",
       "</style>\n",
       "<table border=\"1\" class=\"dataframe\">\n",
       "  <thead>\n",
       "    <tr style=\"text-align: right;\">\n",
       "      <th></th>\n",
       "      <th>car_ID</th>\n",
       "      <th>symboling</th>\n",
       "      <th>CarName</th>\n",
       "      <th>fueltype</th>\n",
       "      <th>aspiration</th>\n",
       "      <th>doornumber</th>\n",
       "      <th>carbody</th>\n",
       "      <th>drivewheel</th>\n",
       "      <th>enginelocation</th>\n",
       "      <th>wheelbase</th>\n",
       "      <th>...</th>\n",
       "      <th>enginesize</th>\n",
       "      <th>fuelsystem</th>\n",
       "      <th>boreratio</th>\n",
       "      <th>stroke</th>\n",
       "      <th>compressionratio</th>\n",
       "      <th>horsepower</th>\n",
       "      <th>peakrpm</th>\n",
       "      <th>citympg</th>\n",
       "      <th>highwaympg</th>\n",
       "      <th>price</th>\n",
       "    </tr>\n",
       "  </thead>\n",
       "  <tbody>\n",
       "    <tr>\n",
       "      <th>0</th>\n",
       "      <td>1</td>\n",
       "      <td>3</td>\n",
       "      <td>alfa-romero giulia</td>\n",
       "      <td>gas</td>\n",
       "      <td>std</td>\n",
       "      <td>two</td>\n",
       "      <td>convertible</td>\n",
       "      <td>rwd</td>\n",
       "      <td>front</td>\n",
       "      <td>88.6</td>\n",
       "      <td>...</td>\n",
       "      <td>130</td>\n",
       "      <td>mpfi</td>\n",
       "      <td>3.47</td>\n",
       "      <td>2.68</td>\n",
       "      <td>9.0</td>\n",
       "      <td>111</td>\n",
       "      <td>5000</td>\n",
       "      <td>21</td>\n",
       "      <td>27</td>\n",
       "      <td>13495.0</td>\n",
       "    </tr>\n",
       "    <tr>\n",
       "      <th>1</th>\n",
       "      <td>2</td>\n",
       "      <td>3</td>\n",
       "      <td>alfa-romero stelvio</td>\n",
       "      <td>gas</td>\n",
       "      <td>std</td>\n",
       "      <td>two</td>\n",
       "      <td>convertible</td>\n",
       "      <td>rwd</td>\n",
       "      <td>front</td>\n",
       "      <td>88.6</td>\n",
       "      <td>...</td>\n",
       "      <td>130</td>\n",
       "      <td>mpfi</td>\n",
       "      <td>3.47</td>\n",
       "      <td>2.68</td>\n",
       "      <td>9.0</td>\n",
       "      <td>111</td>\n",
       "      <td>5000</td>\n",
       "      <td>21</td>\n",
       "      <td>27</td>\n",
       "      <td>16500.0</td>\n",
       "    </tr>\n",
       "    <tr>\n",
       "      <th>2</th>\n",
       "      <td>3</td>\n",
       "      <td>1</td>\n",
       "      <td>alfa-romero Quadrifoglio</td>\n",
       "      <td>gas</td>\n",
       "      <td>std</td>\n",
       "      <td>two</td>\n",
       "      <td>hatchback</td>\n",
       "      <td>rwd</td>\n",
       "      <td>front</td>\n",
       "      <td>94.5</td>\n",
       "      <td>...</td>\n",
       "      <td>152</td>\n",
       "      <td>mpfi</td>\n",
       "      <td>2.68</td>\n",
       "      <td>3.47</td>\n",
       "      <td>9.0</td>\n",
       "      <td>154</td>\n",
       "      <td>5000</td>\n",
       "      <td>19</td>\n",
       "      <td>26</td>\n",
       "      <td>16500.0</td>\n",
       "    </tr>\n",
       "    <tr>\n",
       "      <th>3</th>\n",
       "      <td>4</td>\n",
       "      <td>2</td>\n",
       "      <td>audi 100 ls</td>\n",
       "      <td>gas</td>\n",
       "      <td>std</td>\n",
       "      <td>four</td>\n",
       "      <td>sedan</td>\n",
       "      <td>fwd</td>\n",
       "      <td>front</td>\n",
       "      <td>99.8</td>\n",
       "      <td>...</td>\n",
       "      <td>109</td>\n",
       "      <td>mpfi</td>\n",
       "      <td>3.19</td>\n",
       "      <td>3.40</td>\n",
       "      <td>10.0</td>\n",
       "      <td>102</td>\n",
       "      <td>5500</td>\n",
       "      <td>24</td>\n",
       "      <td>30</td>\n",
       "      <td>13950.0</td>\n",
       "    </tr>\n",
       "    <tr>\n",
       "      <th>4</th>\n",
       "      <td>5</td>\n",
       "      <td>2</td>\n",
       "      <td>audi 100ls</td>\n",
       "      <td>gas</td>\n",
       "      <td>std</td>\n",
       "      <td>four</td>\n",
       "      <td>sedan</td>\n",
       "      <td>4wd</td>\n",
       "      <td>front</td>\n",
       "      <td>99.4</td>\n",
       "      <td>...</td>\n",
       "      <td>136</td>\n",
       "      <td>mpfi</td>\n",
       "      <td>3.19</td>\n",
       "      <td>3.40</td>\n",
       "      <td>8.0</td>\n",
       "      <td>115</td>\n",
       "      <td>5500</td>\n",
       "      <td>18</td>\n",
       "      <td>22</td>\n",
       "      <td>17450.0</td>\n",
       "    </tr>\n",
       "  </tbody>\n",
       "</table>\n",
       "<p>5 rows × 26 columns</p>\n",
       "</div>"
      ],
      "text/plain": [
       "   car_ID  symboling                   CarName fueltype aspiration doornumber  \\\n",
       "0       1          3        alfa-romero giulia      gas        std        two   \n",
       "1       2          3       alfa-romero stelvio      gas        std        two   \n",
       "2       3          1  alfa-romero Quadrifoglio      gas        std        two   \n",
       "3       4          2               audi 100 ls      gas        std       four   \n",
       "4       5          2                audi 100ls      gas        std       four   \n",
       "\n",
       "       carbody drivewheel enginelocation  wheelbase   ...     enginesize  \\\n",
       "0  convertible        rwd          front       88.6   ...            130   \n",
       "1  convertible        rwd          front       88.6   ...            130   \n",
       "2    hatchback        rwd          front       94.5   ...            152   \n",
       "3        sedan        fwd          front       99.8   ...            109   \n",
       "4        sedan        4wd          front       99.4   ...            136   \n",
       "\n",
       "   fuelsystem  boreratio  stroke compressionratio horsepower  peakrpm citympg  \\\n",
       "0        mpfi       3.47    2.68              9.0        111     5000      21   \n",
       "1        mpfi       3.47    2.68              9.0        111     5000      21   \n",
       "2        mpfi       2.68    3.47              9.0        154     5000      19   \n",
       "3        mpfi       3.19    3.40             10.0        102     5500      24   \n",
       "4        mpfi       3.19    3.40              8.0        115     5500      18   \n",
       "\n",
       "   highwaympg    price  \n",
       "0          27  13495.0  \n",
       "1          27  16500.0  \n",
       "2          26  16500.0  \n",
       "3          30  13950.0  \n",
       "4          22  17450.0  \n",
       "\n",
       "[5 rows x 26 columns]"
      ]
     },
     "execution_count": 481,
     "metadata": {},
     "output_type": "execute_result"
    }
   ],
   "source": [
    "df.head()"
   ]
  },
  {
   "cell_type": "code",
   "execution_count": 482,
   "metadata": {},
   "outputs": [
    {
     "data": {
      "text/plain": [
       "Index(['car_ID', 'symboling', 'CarName', 'fueltype', 'aspiration',\n",
       "       'doornumber', 'carbody', 'drivewheel', 'enginelocation', 'wheelbase',\n",
       "       'carlength', 'carwidth', 'carheight', 'curbweight', 'enginetype',\n",
       "       'cylindernumber', 'enginesize', 'fuelsystem', 'boreratio', 'stroke',\n",
       "       'compressionratio', 'horsepower', 'peakrpm', 'citympg', 'highwaympg',\n",
       "       'price'],\n",
       "      dtype='object')"
      ]
     },
     "execution_count": 482,
     "metadata": {},
     "output_type": "execute_result"
    }
   ],
   "source": [
    "# See all the column names in the dataset\n",
    "df.columns"
   ]
  },
  {
   "cell_type": "code",
   "execution_count": 483,
   "metadata": {},
   "outputs": [
    {
     "data": {
      "text/plain": [
       "(205, 26)"
      ]
     },
     "execution_count": 483,
     "metadata": {},
     "output_type": "execute_result"
    }
   ],
   "source": [
    "#Check the size of the data\n",
    "df.shape"
   ]
  },
  {
   "cell_type": "markdown",
   "metadata": {},
   "source": [
    "## Exploratory Data Analysis <a class=\"anchor\" id=\"eda\"></a>\n"
   ]
  },
  {
   "cell_type": "code",
   "execution_count": 484,
   "metadata": {},
   "outputs": [
    {
     "name": "stdout",
     "output_type": "stream",
     "text": [
      " 0    67\n",
      " 1    54\n",
      " 2    32\n",
      " 3    27\n",
      "-1    22\n",
      "-2     3\n",
      "Name: symboling, dtype: int64\n"
     ]
    },
    {
     "data": {
      "image/png": "[encoded data removed]",
      "text/plain": [
       "<Figure size 432x288 with 1 Axes>"
      ]
     },
     "metadata": {},
     "output_type": "display_data"
    }
   ],
   "source": [
    "do_analysis_categorical(df,'symboling')"
   ]
  },
  {
   "cell_type": "code",
   "execution_count": 500,
   "metadata": {},
   "outputs": [
    {
     "name": "stdout",
     "output_type": "stream",
     "text": [
      "           wheelbase     price\n",
      "wheelbase   1.000000  0.577816\n",
      "price       0.577816  1.000000\n"
     ]
    },
    {
     "data": {
      "image/png": "[encoded data removed]",
      "text/plain": [
       "<Figure size 432x288 with 1 Axes>"
      ]
     },
     "metadata": {},
     "output_type": "display_data"
    },
    {
     "data": {
      "image/png": "[encoded data removed]",
      "text/plain": [
       "<Figure size 432x288 with 1 Axes>"
      ]
     },
     "metadata": {},
     "output_type": "display_data"
    }
   ],
   "source": [
    "do_analysis_numeric(df,'wheelbase')\n",
    "# There is no strong corelation between the wheelbase and the price.\n",
    "# The scatterplot is also not showing a linear trend. There is a lot of error term."
   ]
  },
  {
   "cell_type": "markdown",
   "metadata": {},
   "source": [
    "## Based on the analysis about, we can categorise the variables into the following.<BR> We will build a model adding one variable at a time, and checking the performance of the model each time we add.\n",
    "## Variables that show significant corelation :\n",
    "\n",
    "\n",
    "## Variables that show slight corelation :\n",
    "\n",
    "\n",
    "## Check which variables can interact or are multicolinear :\n",
    "\n",
    "\n",
    "## Derived variables:\n"
   ]
  },
  {
   "cell_type": "code",
   "execution_count": 516,
   "metadata": {},
   "outputs": [],
   "source": [
    "# First we will encode all the categorical variables.\n",
    "df = pd.get_dummies(df, columns = ['LuxuryBrand','symboling', 'fueltype', 'aspiration', 'carbody', 'drivewheel', 'enginelocation',\n",
    "                             'enginetype', 'cylindernumber', 'fuelsystem', 'doornumber'], drop_first = True)"
   ]
  },
  {
   "cell_type": "code",
   "execution_count": 517,
   "metadata": {},
   "outputs": [
    {
     "data": {
      "text/plain": [
       "Index(['car_ID', 'wheelbase', 'carlength', 'carwidth', 'carheight',\n",
       "       'curbweight', 'enginesize', 'boreratio', 'stroke', 'compressionratio',\n",
       "       'horsepower', 'peakrpm', 'citympg', 'highwaympg', 'price', 'CarBrand',\n",
       "       'LuxuryBrand_1', 'symboling_-1', 'symboling_0', 'symboling_1',\n",
       "       'symboling_2', 'symboling_3', 'fueltype_gas', 'aspiration_turbo',\n",
       "       'carbody_hardtop', 'carbody_hatchback', 'carbody_sedan',\n",
       "       'carbody_wagon', 'drivewheel_fwd', 'drivewheel_rwd',\n",
       "       'enginelocation_rear', 'enginetype_dohcv', 'enginetype_l',\n",
       "       'enginetype_ohc', 'enginetype_ohcf', 'enginetype_ohcv',\n",
       "       'enginetype_rotor', 'cylindernumber_five', 'cylindernumber_four',\n",
       "       'cylindernumber_six', 'cylindernumber_three', 'cylindernumber_twelve',\n",
       "       'cylindernumber_two', 'fuelsystem_2bbl', 'fuelsystem_4bbl',\n",
       "       'fuelsystem_idi', 'fuelsystem_mfi', 'fuelsystem_mpfi',\n",
       "       'fuelsystem_spdi', 'fuelsystem_spfi', 'doornumber_two'],\n",
       "      dtype='object')"
      ]
     },
     "execution_count": 517,
     "metadata": {},
     "output_type": "execute_result"
    }
   ],
   "source": [
    "df.columns"
   ]
  },
  {
   "cell_type": "markdown",
   "metadata": {},
   "source": [
    "## Section 4: Data Normalization <a class=\"anchor\" id=\"data-normalization\" />\n"
   ]
  },
  {
   "cell_type": "code",
   "execution_count": 518,
   "metadata": {},
   "outputs": [],
   "source": [
    "original_dataframe = df\n",
    "\n",
    "# We will scale the variables\n",
    "# First we will save a dataframe with the variables that dont need to be scaled to concat later\n",
    "df_no_scaling = df[['car_ID','CarBrand', 'price']]\n",
    "\n",
    "scaler = MinMaxScaler()\n",
    "df_to_scale = df.drop(['car_ID','CarBrand', 'price'], axis = 1)\n",
    "columns_to_retain = df_to_scale.columns\n",
    "scaled_array = scaler.fit_transform(df_to_scale)\n",
    "\n",
    "# Regenerate the dataframe\n",
    "scaled_df = pd.DataFrame(data = scaled_array, columns = columns_to_retain)\n",
    "\n",
    "# Now concatenate the non scaled columns with the scaled columns\n",
    "df = pd.concat([scaled_df, df_no_scaling], axis = 1)"
   ]
  },
  {
   "cell_type": "code",
   "execution_count": 586,
   "metadata": {},
   "outputs": [
    {
     "data": {
      "text/plain": [
       "0.41410622717553786"
      ]
     },
     "execution_count": 586,
     "metadata": {},
     "output_type": "execute_result"
    }
   ],
   "source": [
    "#Check if the mean of one of the variables is under 1. To verify if scaling has happened.\n",
    "df.curbweight.mean()"
   ]
  },
  {
   "cell_type": "markdown",
   "metadata": {},
   "source": [
    "## Model Version 1 <a class=\"anchor\" id=\"model-v1\" />\n",
    "<br>---------------------------------------------------------------------------\n",
    "<br>We will build a model with 2 initial features - LuxuryBrand and Curbweight."
   ]
  },
  {
   "cell_type": "code",
   "execution_count": 520,
   "metadata": {},
   "outputs": [
    {
     "name": "stdout",
     "output_type": "stream",
     "text": [
      "                            OLS Regression Results                            \n",
      "==============================================================================\n",
      "Dep. Variable:                      y   R-squared:                       0.944\n",
      "Model:                            OLS   Adj. R-squared:                  0.944\n",
      "Method:                 Least Squares   F-statistic:                     1721.\n",
      "Date:                Fri, 17 Aug 2018   Prob (F-statistic):          5.02e-128\n",
      "Time:                        08:30:59   Log-Likelihood:                -1972.6\n",
      "No. Observations:                 205   AIC:                             3949.\n",
      "Df Residuals:                     203   BIC:                             3956.\n",
      "Df Model:                           2                                         \n",
      "Covariance Type:            nonrobust                                         \n",
      "==============================================================================\n",
      "                 coef    std err          t      P>|t|      [0.025      0.975]\n",
      "------------------------------------------------------------------------------\n",
      "x1          6505.7696    688.507      9.449      0.000    5148.227    7863.312\n",
      "x2          2.746e+04    752.985     36.469      0.000     2.6e+04    2.89e+04\n",
      "==============================================================================\n",
      "Omnibus:                       61.513   Durbin-Watson:                   0.723\n",
      "Prob(Omnibus):                  0.000   Jarque-Bera (JB):              245.635\n",
      "Skew:                           1.127   Prob(JB):                     4.58e-54\n",
      "Kurtosis:                       7.866   Cond. No.                         2.28\n",
      "==============================================================================\n",
      "\n",
      "Warnings:\n",
      "[1] Standard Errors assume that the covariance matrix of the errors is correctly specified.\n",
      "Mean Squared Error:  13354696.00717771\n",
      "R Squared:  0.7897243844200986\n",
      "Adjusted R Squared:  0.7876424476321788\n"
     ]
    },
    {
     "data": {
      "image/png": "[encoded data removed]",
      "text/plain": [
       "<Figure size 432x288 with 1 Axes>"
      ]
     },
     "metadata": {},
     "output_type": "display_data"
    },
    {
     "data": {
      "image/png": "[encoded data removed]",
      "text/plain": [
       "<Figure size 432x288 with 1 Axes>"
      ]
     },
     "metadata": {},
     "output_type": "display_data"
    }
   ],
   "source": [
    "X = df[['LuxuryBrand_1', 'curbweight']]\n",
    "y = df['price']\n",
    "model = get_model_summary(X, y)\n",
    "ypred = model.predict(X)\n",
    "print_error_terms(y, ypred, X.shape[1])\n",
    "plot_error(y, ypred)\n",
    "plot_actual_vs_predicted(y, ypred)\n"
   ]
  },
  {
   "cell_type": "code",
   "execution_count": 521,
   "metadata": {},
   "outputs": [
    {
     "name": "stdout",
     "output_type": "stream",
     "text": [
      "    feature name  Variance Influence Factor (VIF)\n",
      "0  LuxuryBrand_1                         1.827799\n",
      "1     curbweight                         1.827799\n"
     ]
    }
   ],
   "source": [
    "get_VIF(X)"
   ]
  },
  {
   "cell_type": "markdown",
   "metadata": {},
   "source": [
    "## Model Version 1 : Summary <a class=\"anchor\" id=\"model-v1-summary\" />\n",
    "<br/>\n",
    "<table align=left>\n",
    "    <tr>\n",
    "        <td><b>R squared</b></td>\n",
    "        <td>0.72</td>\n",
    "    </tr>\n",
    "    <tr>\n",
    "        <td><b>Adjusted R squared</b></td>\n",
    "        <td>0.72</td>\n",
    "    </tr>\n",
    "    <tr>\n",
    "        <td> <b>Max VIF </b></td>\n",
    "        <td> 1.54 </td>\n",
    "    </tr>\n",
    "    <tr>\n",
    "        <td> <b> Features </b> </td>\n",
    "        <td> LuxuryBrand_1, curbweight</td>\n",
    "    </tr>\n",
    "</table>\n",
    "    \n",
    "            "
   ]
  },
  {
   "cell_type": "markdown",
   "metadata": {},
   "source": [
    "## Linear Regression using SkLearn <a class=\"anchor\" id=\"lr\" />"
   ]
  },
  {
   "cell_type": "code",
   "execution_count": 567,
   "metadata": {},
   "outputs": [],
   "source": [
    "# Use Sklearn to build the final model. - done\n",
    "# TODO. Try the Sklear RFE and see what it outputs.\n",
    "# Write the summary of the model weights and the recommendation."
   ]
  },
  {
   "cell_type": "code",
   "execution_count": 572,
   "metadata": {},
   "outputs": [],
   "source": [
    "X = df[['LuxuryBrand_1', 'enginesize','cylindernumber_two', 'drivewheel_fwd', 'enginelocation_rear']]\n",
    "y = df['price']\n",
    "\n",
    "lr = LinearRegression()\n",
    "lr.fit(X, y)\n",
    "\n",
    "ypred = lr.predict(X)"
   ]
  },
  {
   "cell_type": "code",
   "execution_count": 571,
   "metadata": {},
   "outputs": [
    {
     "name": "stdout",
     "output_type": "stream",
     "text": [
      "Coefficients [ 5951.36272148 33003.16306783  7510.04548582 -1334.92273212\n",
      "  7935.04384833]\n"
     ]
    }
   ],
   "source": [
    "print(\"Coefficients\", lr.coef_)"
   ]
  },
  {
   "cell_type": "code",
   "execution_count": 573,
   "metadata": {},
   "outputs": [
    {
     "name": "stdout",
     "output_type": "stream",
     "text": [
      "Mean Squared Error:  6597393.118596114\n",
      "R Squared:  0.8961211173590331\n",
      "Adjusted R Squared:  0.8935110951821243\n"
     ]
    }
   ],
   "source": [
    "print_error_terms(y, ypred, X.shape[1])"
   ]
  },
  {
   "cell_type": "markdown",
   "metadata": {},
   "source": [
    "## Using SkLearn.RFE to automatically compute a model <a class=\"anchor\" id=\"rfe\" />"
   ]
  },
  {
   "cell_type": "code",
   "execution_count": 588,
   "metadata": {},
   "outputs": [
    {
     "data": {
      "text/plain": [
       "RFE(estimator=LinearRegression(copy_X=True, fit_intercept=True, n_jobs=1, normalize=False),\n",
       "  n_features_to_select=5, step=1, verbose=0)"
      ]
     },
     "execution_count": 588,
     "metadata": {},
     "output_type": "execute_result"
    }
   ],
   "source": [
    "X = df.drop(['car_ID','CarBrand', 'price'], axis = 1)\n",
    "y = df['price']\n",
    "lr = LinearRegression()\n",
    "selector = RFE(lr, n_features_to_select=5)\n",
    "selector.fit(X, y)\n"
   ]
  },
  {
   "cell_type": "code",
   "execution_count": 589,
   "metadata": {},
   "outputs": [
    {
     "data": {
      "text/plain": [
       "array([21,  9,  1, 39,  6,  1, 32, 12,  1, 15, 13, 35, 27,  2, 18, 14, 16,\n",
       "       17, 19,  1, 36, 23, 22, 25, 24, 40, 34,  1, 10, 33, 20, 31, 11, 38,\n",
       "        4,  5,  7, 26,  8, 43, 41, 28,  3, 29, 42, 30, 37, 44])"
      ]
     },
     "execution_count": 589,
     "metadata": {},
     "output_type": "execute_result"
    }
   ],
   "source": [
    "selector.ranking_"
   ]
  },
  {
   "cell_type": "code",
   "execution_count": 590,
   "metadata": {},
   "outputs": [
    {
     "data": {
      "text/plain": [
       "array([False, False,  True, False, False,  True, False, False,  True,\n",
       "       False, False, False, False, False, False, False, False, False,\n",
       "       False,  True, False, False, False, False, False, False, False,\n",
       "        True, False, False, False, False, False, False, False, False,\n",
       "       False, False, False, False, False, False, False, False, False,\n",
       "       False, False, False])"
      ]
     },
     "execution_count": 590,
     "metadata": {},
     "output_type": "execute_result"
    }
   ],
   "source": [
    "selector.support_\n"
   ]
  },
  {
   "cell_type": "code",
   "execution_count": 585,
   "metadata": {},
   "outputs": [
    {
     "data": {
      "text/plain": [
       "Index(['wheelbase', 'carlength', 'carwidth', 'carheight', 'curbweight',\n",
       "       'enginesize', 'boreratio', 'stroke', 'compressionratio', 'horsepower',\n",
       "       'peakrpm', 'citympg', 'highwaympg', 'LuxuryBrand_1', 'symboling_-1',\n",
       "       'symboling_0', 'symboling_1', 'symboling_2', 'symboling_3',\n",
       "       'fueltype_gas', 'aspiration_turbo', 'carbody_hardtop',\n",
       "       'carbody_hatchback', 'carbody_sedan', 'carbody_wagon', 'drivewheel_fwd',\n",
       "       'drivewheel_rwd', 'enginelocation_rear', 'enginetype_dohcv',\n",
       "       'enginetype_l', 'enginetype_ohc', 'enginetype_ohcf', 'enginetype_ohcv',\n",
       "       'enginetype_rotor', 'cylindernumber_five', 'cylindernumber_four',\n",
       "       'cylindernumber_six', 'cylindernumber_three', 'cylindernumber_twelve',\n",
       "       'cylindernumber_two', 'fuelsystem_2bbl', 'fuelsystem_4bbl',\n",
       "       'fuelsystem_idi', 'fuelsystem_mfi', 'fuelsystem_mpfi',\n",
       "       'fuelsystem_spdi', 'fuelsystem_spfi', 'doornumber_two'],\n",
       "      dtype='object')"
      ]
     },
     "execution_count": 585,
     "metadata": {},
     "output_type": "execute_result"
    }
   ],
   "source": [
    "X.columns"
   ]
  },
  {
   "cell_type": "markdown",
   "metadata": {},
   "source": [
    "SkLearn Automatic Recursive Feature Elimination has suggested - [1- carwidth, 1- enginesize, 1- compressionratio, 2-fueltype_gas and 1-enginelocation_rear] <br>\n",
    "Manually created model has the following features: LuxuryBrand_1, enginesize, cylindernumber_two, drivewheel_fwd, enginelocation_rear <br>\n",
    "The common features are enginesize and enginelocation_rear"
   ]
  },
  {
   "cell_type": "markdown",
   "metadata": {},
   "source": [
    "## Final Summary and Recommendations <a class=\"anchor\" id=\"summary\" />"
   ]
  },
  {
   "cell_type": "code",
   "execution_count": null,
   "metadata": {},
   "outputs": [],
   "source": []
  }
 ],
 "metadata": {
  "kernelspec": {
   "display_name": "Python 3",
   "language": "python",
   "name": "python3"
  },
  "language_info": {
   "codemirror_mode": {
    "name": "ipython",
    "version": 3
   },
   "file_extension": ".py",
   "mimetype": "text/x-python",
   "name": "python",
   "nbconvert_exporter": "python",
   "pygments_lexer": "ipython3",
   "version": "3.6.4"
  }
 },
 "nbformat": 4,
 "nbformat_minor": 2
}
